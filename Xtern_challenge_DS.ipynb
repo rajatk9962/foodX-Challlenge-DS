{
  "nbformat": 4,
  "nbformat_minor": 0,
  "metadata": {
    "colab": {
      "provenance": []
    },
    "kernelspec": {
      "name": "python3",
      "display_name": "Python 3"
    },
    "language_info": {
      "name": "python"
    }
  },
  "cells": [
    {
      "cell_type": "code",
      "source": [
        "cd /content/drive/MyDrive/"
      ],
      "metadata": {
        "colab": {
          "base_uri": "https://localhost:8080/"
        },
        "id": "FM54CDqZJYRG",
        "outputId": "4d29307e-c9b6-42d7-c972-53cc5724d431"
      },
      "execution_count": 1,
      "outputs": [
        {
          "output_type": "stream",
          "name": "stdout",
          "text": [
            "/content/drive/MyDrive\n"
          ]
        }
      ]
    },
    {
      "cell_type": "markdown",
      "source": [
        "#Loading google maps api with query \"Food trucks in Indianapolis\""
      ],
      "metadata": {
        "id": "kYML-7-9t-2p"
      }
    },
    {
      "cell_type": "code",
      "execution_count": 50,
      "metadata": {
        "id": "lLprN0p9HzTi"
      },
      "outputs": [],
      "source": [
        "import requests\n",
        "\n",
        "# Define the API endpoint and parameters\n",
        "endpoint = \"https://maps.googleapis.com/maps/api/place/textsearch/json\"\n",
        "params = {\n",
        "    'query': 'food trucks in Indianapolis',\n",
        "    'key': '###'\n",
        "}\n",
        "\n",
        "# Make the request to the API\n",
        "response = requests.get(endpoint, params=params)\n",
        "\n",
        "# Parse the response JSON\n",
        "data = response.json()"
      ]
    },
    {
      "cell_type": "code",
      "source": [
        "#Saving json so we dont need to retrieve it everytime\n",
        "import json\n",
        "with open('data.json', 'w') as file:\n",
        "\n",
        "    json.dump(data, file, indent=4)"
      ],
      "metadata": {
        "id": "5K8TUd9QIrVl"
      },
      "execution_count": 52,
      "outputs": []
    },
    {
      "cell_type": "code",
      "source": [
        "import pandas as pd\n",
        "\n",
        "# Extract the relevant fields from the data\n",
        "food_trucks = []\n",
        "for place in data['results']:\n",
        "    food_trucks.append({\n",
        "        'name': place['name'],\n",
        "        'address': place['formatted_address'],\n",
        "        'rating': place.get('rating', None),\n",
        "        'website': place.get('website', None),\n",
        "        'open_hour': place.get('opening_hours', {}).get('open_now', None),\n",
        "        'cuisine_type': place.get('types', [])\n",
        "    })\n",
        "\n",
        "# Convert the data into a pandas DataFrame\n",
        "df = pd.DataFrame(food_trucks)"
      ],
      "metadata": {
        "id": "tHT6wpp1J3iE"
      },
      "execution_count": 28,
      "outputs": []
    },
    {
      "cell_type": "code",
      "source": [
        "import requests\n",
        "\n",
        "\n",
        "place_ids = [place for place in df.place_id]\n",
        "\n",
        "\n",
        "endpoint = \"https://maps.googleapis.com/maps/api/place/details/json\"\n",
        "\n",
        "\n",
        "place_details_list = []\n",
        "\n",
        "\n",
        "for place_id in place_ids:\n",
        "\n",
        "    params = {\n",
        "        'place_id': place_id,\n",
        "        'key': '###'\n",
        "    }\n",
        "\n",
        "\n",
        "    response = requests.get(endpoint, params=params)\n",
        "\n",
        "    results_data = response.json()\n",
        "\n",
        "\n",
        "    place_details = results_data['result']\n",
        "    place_details_list.append(place_details)\n"
      ],
      "metadata": {
        "id": "i2dxDd76m28q"
      },
      "execution_count": 55,
      "outputs": []
    },
    {
      "cell_type": "code",
      "source": [
        "import re\n",
        "def get_times(x):\n",
        "  if x==None:\n",
        "    return None\n",
        "  days_times = x\n",
        "\n",
        "  # Create lists to store the opening and closing times\n",
        "  open_times = []\n",
        "\n",
        "  # Process each item in the list\n",
        "  for item in days_times:\n",
        "      # Extract the day and times\n",
        "      day, times = item.split(': ', 1)\n",
        "\n",
        "      if times != 'Closed':\n",
        "\n",
        "          cleaned_times = re.sub(r'[^\\x00-\\x7F-:]+', '', times)\n",
        "\n",
        "          # open_time, close_time = cleaned_times[:len(cleaned_times) // 2],cleaned_times[len(cleaned_times) // 2:]\n",
        "\n",
        "\n",
        "          open_times.append( re.sub(r'(\\d{1,2}:\\d{2})([APMapm]{2})(\\d{1,2}:\\d{2})([APMapm]{2})', r'\\1\\2 - \\3\\4', cleaned_times)\n",
        ")\n",
        "\n",
        "\n",
        "\n",
        "\n",
        "  output = f\"{open_times[0]}\"\n",
        "\n",
        "  return output"
      ],
      "metadata": {
        "id": "sevAgCcc0RN2"
      },
      "execution_count": 112,
      "outputs": []
    },
    {
      "cell_type": "code",
      "source": [
        "additional_details = []\n",
        "for place in place_details_list:\n",
        "\n",
        "    additional_details.append({\n",
        "        'place_id': place.get('place_id', None) ,\n",
        "        'Cuisine': place.get('types', None) ,\n",
        "        'website': place.get('website', None) ,\n",
        "        'Hours': get_times(place.get('current_opening_hours',{}).get('weekday_text',None))\n",
        "\n",
        "    })\n",
        "\n"
      ],
      "metadata": {
        "id": "lMTFg-KZoncy"
      },
      "execution_count": 149,
      "outputs": []
    },
    {
      "cell_type": "code",
      "source": [
        "df2 = pd.DataFrame(additional_details)"
      ],
      "metadata": {
        "id": "qoxAQPiTytY-"
      },
      "execution_count": 150,
      "outputs": []
    },
    {
      "cell_type": "code",
      "source": [
        "merged_df = pd.merge(df, df2, on='place_id')"
      ],
      "metadata": {
        "id": "jWXMMOvK2e3W"
      },
      "execution_count": 130,
      "outputs": []
    },
    {
      "cell_type": "code",
      "source": [
        "print(merged_df.head())"
      ],
      "metadata": {
        "colab": {
          "base_uri": "https://localhost:8080/"
        },
        "id": "pBPZPlQU2w-F",
        "outputId": "b6cac776-3e70-46c6-c90e-a9b7b53fb50e"
      },
      "execution_count": 139,
      "outputs": [
        {
          "output_type": "stream",
          "name": "stdout",
          "text": [
            "                      place_id                           name  \\\n",
            "0  ChIJrZbSAjlda4gRzX8ft2gUhfw      big Jerry Indy food truck   \n",
            "1  ChIJ5yom11tWa4gR1fqgVmHn10o       Pico de Gallo Food Truck   \n",
            "2  ChIJ1WvY2R5Ja4gRoI-kU1qn1Bc  The Latin Flavor - Food Truck   \n",
            "3  ChIJG__HbklVa4gRYiCltEzZ5ps  Mi Lindo Pénjamo - Food Truck   \n",
            "4  ChIJA1KNvZVPa4gRzYcJrty8Ews         Super Tacos food truck   \n",
            "\n",
            "                                             address  rating  \\\n",
            "0  8522 Madison Ave, Indianapolis, IN 46227, Unit...     5.0   \n",
            "1  3014 Lafayette Rd #3000, Indianapolis, IN 4622...     4.5   \n",
            "2  9130 E 38th St, Indianapolis, IN 46235, United...     4.1   \n",
            "3  7910 Michigan Rd, Indianapolis, IN 46268, Unit...     4.5   \n",
            "4  7202 E Washington St, Indianapolis, IN 46219, ...     4.6   \n",
            "\n",
            "                                             Cuisine  \\\n",
            "0  [restaurant, food, point_of_interest, establis...   \n",
            "1  [restaurant, food, point_of_interest, establis...   \n",
            "2  [restaurant, food, point_of_interest, establis...   \n",
            "3  [restaurant, food, point_of_interest, establis...   \n",
            "4  [restaurant, food, point_of_interest, establis...   \n",
            "\n",
            "                                             website              Hours  \n",
            "0                                               None   11:00AM - 7:00PM  \n",
            "1            https://www.facebook.com/peregrino1982/    5:00PM - 1:00AM  \n",
            "2  http://thelatinflavorindy.com/?utm_source=gmb&...  11:00AM - 10:00PM  \n",
            "3             https://store.kahero.co/milindopenjamo   7:30PM - 12:00AM  \n",
            "4                                               None               None  \n"
          ]
        }
      ]
    },
    {
      "cell_type": "code",
      "source": [
        "merged_df=merged_df.drop('place_id',axis=1)"
      ],
      "metadata": {
        "id": "02CM9ehA3qpx"
      },
      "execution_count": 143,
      "outputs": []
    },
    {
      "cell_type": "code",
      "source": [
        "merged_df.to_csv('Generated_data.csv', index=False)"
      ],
      "metadata": {
        "id": "0D_Lo86N27pM"
      },
      "execution_count": 148,
      "outputs": []
    },
    {
      "cell_type": "markdown",
      "source": [
        "#Merged df contains the generated data with the required info, there has been cleaning operation performed on the Hours attribute. The google places api does not return the exact type of cuisine the restaurant offers. We can use the generated data to not chart out a plan for the food trip\n",
        "#The factors that are selected for choosing a food truck are opening times, location and the ratings"
      ],
      "metadata": {
        "id": "aA-0SM1e5xdl"
      }
    }
  ]
}